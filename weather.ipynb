{
 "cells": [
  {
   "cell_type": "markdown",
   "metadata": {},
   "source": [
    "# Tasks"
   ]
  },
  {
   "cell_type": "markdown",
   "metadata": {},
   "source": [
    "### Task 1: Create Directory Structure\n",
    "\n",
    "The objective of this task was to use the command line to create a directory with two subdirectories.\n",
    "\n",
    "In order to make a directory I need to first use the `cd` command to navigate to the correct repositry where I would like my directory to be. Using `mkdir data`, I can create the directory \"data\". Using `cd /data`, I go to my new \"data\" directory and I can make my subdirectories \"weather\" and \"timestamps\".\n",
    "\n",
    "Verify your results in the left sidebar of your Visual Studio Code or Codespaces work space where you can see your new folders created."
   ]
  },
  {
   "cell_type": "markdown",
   "metadata": {},
   "source": [
    "### Task 2: Timestamps\n",
    "\n",
    "For task 2, I needed to create a `txt` file with the current date and time appended to it. \n",
    "\n",
    "I used `cd data/timestamps` to navigate to the correct directory. When there, I used the command `date >> now.txt`, this appended the current time and date to a new file called \"now.txt\". I repeated this process 10 more times. It's important to append (`>>`) the dates, rather than overwriting (`>`) them, as this allows us to collect each iteration rather than deleting and replacing the iterations each time the command is run.\n",
    "\n",
    "To display the content of your file and verify the results, simply run `more now.txt`."
   ]
  },
  {
   "cell_type": "markdown",
   "metadata": {},
   "source": [
    "### Task 3: Formatting Timestamps\n",
    "\n",
    "In this task, I ran the `date` command again but with the format `YYYYmmdd_HHMMSS` and appended it to a new file \"formatted.txt\".\n",
    "\n",
    "To do this, I need to run the command `date +\"%Y%m%d_%H%M%S\" >> formatted.txt`. Same as before it will save the current date and time and append it to a new txt file. However, in this example, the format of the date has been changed.\n",
    "\n",
    "- `%Y` = year\n",
    "\n",
    "- ``%m`` = month\n",
    "\n",
    "- ``%d`` = day\n",
    "\n",
    "- ``_`` = for ease of reading\n",
    "\n",
    "- ``%H`` = hour\n",
    "\n",
    "- ``%M`` = minutes\n",
    "        \n",
    "- ``%S`` = seconds\n",
    "\n",
    "Once again, to verify results use command `more formatted.txt`.\n",
    "\n"
   ]
  },
  {
   "cell_type": "markdown",
   "metadata": {},
   "source": [
    "### Task 4: Create Timestamped Files\n",
    "\n"
   ]
  },
  {
   "cell_type": "markdown",
   "metadata": {},
   "source": [
    "For task 4, I used the ``touch`` command to create an empty file in the format ``YYYYmmdd_HHMMSS.txt``. I didn't need redirection for this step (``>>``) and instead used backticks (``\n",
    "`\n",
    "``). The command looked like this:\n",
    "\n",
    "``\n",
    "touch `date +\"%Y%m%d_%H%M%S\"`.txt\n",
    "``"
   ]
  },
  {
   "cell_type": "markdown",
   "metadata": {},
   "source": [
    "### Task 5: Download Today's Weather Data"
   ]
  },
  {
   "cell_type": "markdown",
   "metadata": {},
   "source": [
    "In task 5, I needed to download the latest weather data for the Athenry weather station from [Met Eireann](https://prodapi.metweb.ie/observations/athenry/today), to my weather directory.\n",
    "\n",
    "To do this I navigate to the directory ``cd data/weather``. When there I used the command ``wget`` to download the file from the url with the flag ``-O`` which allowed me to give the file a different name. The command looks like this:\n",
    "\n",
    "``\n",
    "wget -O weather.json https://prodapi.metweb.ie/observations/athenry/today\n",
    "``\n",
    "After running the command, you can check for the downloaded file by running ``ls`` to get a list of items in your chosen directory (``weather``)."
   ]
  },
  {
   "cell_type": "markdown",
   "metadata": {},
   "source": [
    "### Task 6: Timestamp the Data"
   ]
  },
  {
   "cell_type": "markdown",
   "metadata": {},
   "source": [
    "For Task 6, I did the same as above but renamed ``weather.json`` to the current date and time in the format: ``YYYYmmdd_HHMMSS.json``. To do this I ran the command:\n",
    "\n",
    "``\n",
    "wget -O date +\"%Y%m%d_%H%M%S\".json https://prodapi.metweb.ie/observations/athenry/today\n",
    "``\n",
    "\n",
    "Once again using ``ls`` to check that this worked correctly."
   ]
  },
  {
   "cell_type": "markdown",
   "metadata": {},
   "source": [
    "### Task 7: Write the Script"
   ]
  },
  {
   "cell_type": "markdown",
   "metadata": {},
   "source": []
  },
  {
   "cell_type": "markdown",
   "metadata": {},
   "source": [
    "Goal:\n",
    "Commands Used:\n",
    "Process:\n",
    "Outcome:"
   ]
  },
  {
   "cell_type": "markdown",
   "metadata": {},
   "source": []
  }
 ],
 "metadata": {
  "language_info": {
   "name": "python"
  }
 },
 "nbformat": 4,
 "nbformat_minor": 2
}
