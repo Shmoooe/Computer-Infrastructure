{
 "cells": [
  {
   "cell_type": "markdown",
   "metadata": {},
   "source": [
    "# Tasks"
   ]
  },
  {
   "cell_type": "markdown",
   "metadata": {},
   "source": [
    "### Task 1: Create Directory Structure\n",
    "\n",
    "The objective of this task was to use the command line to create a directory with two subdirectories.\n",
    "\n",
    "In order to make a directory I need to first use the `cd` command to navigate to the correct repositry where I would like my directory to be. Using `mkdir data`, I can create the directory \"data\". Using `cd /data`, I go to my new \"data\" directory and I can make my subdirectories \"weather\" and \"timestamps\".\n",
    "\n",
    "Verify your results in the left sidebar of your Visual Studio Code or Codespaces work space where you can see your new folders created."
   ]
  },
  {
   "cell_type": "markdown",
   "metadata": {},
   "source": [
    "### Task 2: Timestamps\n",
    "\n",
    "For task 2, I needed to create a `txt` file with the current date and time appended to it. \n",
    "\n",
    "I used `cd data/timestamps` to navigate to the correct directory. When there, I used the command `date >> now.txt`, this appended the current time and date to a new file called \"now.txt\". I repeated this process 10 more times. It's important to append (`>>`) the dates, rather than overwriting (`>`) them, as this allows us to collect each iteration rather than deleting and replacing the iterations each time the command is run.\n",
    "\n",
    "To display the content of your file and verify the results, simply run `more now.txt`."
   ]
  },
  {
   "cell_type": "markdown",
   "metadata": {},
   "source": [
    "### Task 3: Formatting Timestamps\n",
    "\n",
    "In this task, I ran the `date` command again but with the format `YYYYmmdd_HHMMSS` and appended it to a new file \"formatted.txt\".\n",
    "\n",
    "To do this, I need to run the command `date +\"%Y%m%d_%H%M%S\" >> formatted.txt`. Same as before it will save the current date and time and append it to a new txt file. However, in this example, the format of the date has been changed.\n",
    "\n",
    "- `%Y` = year\n",
    "\n",
    "- ``%m`` = month\n",
    "\n",
    "- ``%d`` = day\n",
    "\n",
    "- ``_`` = for ease of reading\n",
    "\n",
    "- ``%H`` = hour\n",
    "\n",
    "- ``%M`` = minutes\n",
    "        \n",
    "- ``%S`` = seconds\n",
    "\n",
    "Once again, to verify results use command `more formatted.txt`.\n",
    "\n"
   ]
  },
  {
   "cell_type": "markdown",
   "metadata": {},
   "source": [
    "### Task 4: Create Timestamped Files\n",
    "\n"
   ]
  },
  {
   "cell_type": "markdown",
   "metadata": {},
   "source": [
    "For task 4, I used the ``touch`` command to create an empty file in the format ``YYYYmmdd_HHMMSS.txt``. I didn't need redirection for this step (``>>``) and instead used backticks (``\n",
    "`\n",
    "``). The command looked like this:\n",
    "\n",
    "``\n",
    "touch `date +\"%Y%m%d_%H%M%S\"`.txt\n",
    "``"
   ]
  },
  {
   "cell_type": "markdown",
   "metadata": {},
   "source": [
    "### Task 5: Download Today's Weather Data"
   ]
  },
  {
   "cell_type": "markdown",
   "metadata": {},
   "source": [
    "In task 5, I needed to download the latest weather data for the Athenry weather station from [Met Eireann](https://prodapi.metweb.ie/observations/athenry/today), to my weather directory.\n",
    "\n",
    "To do this I navigate to the directory ``cd data/weather``. When there I used the command ``wget`` to download the file from the url with the flag ``-O`` which allowed me to give the file a different name. The command looks like this:\n",
    "\n",
    "``\n",
    "wget -O weather.json https://prodapi.metweb.ie/observations/athenry/today\n",
    "``\n",
    "After running the command, you can check for the downloaded file by running ``ls`` to get a list of items in your chosen directory (``weather``)."
   ]
  },
  {
   "cell_type": "markdown",
   "metadata": {},
   "source": [
    "### Task 6: Timestamp the Data"
   ]
  },
  {
   "cell_type": "markdown",
   "metadata": {},
   "source": [
    "For Task 6, I did the same as above but renamed ``weather.json`` to the current date and time in the format: ``YYYYmmdd_HHMMSS.json``. To do this I ran the command:\n",
    "\n",
    "``\n",
    "wget -O date +\"%Y%m%d_%H%M%S\".json https://prodapi.metweb.ie/observations/athenry/today\n",
    "``\n",
    "\n",
    "Once again using ``ls`` to check that this worked correctly."
   ]
  },
  {
   "cell_type": "markdown",
   "metadata": {},
   "source": [
    "### Task 7: Write the Script"
   ]
  },
  {
   "cell_type": "markdown",
   "metadata": {},
   "source": [
    "For the final task, I wrote a bash script called ``weather.sh`` to automate Task 6.\n",
    "\n",
    "To do so I needed to navigate back to the root of the repository. Afterwards I used ``touch weather.sh`` to create the empty file. When inside this file I can essentially copy and paste the same command as in Task 6:\n",
    "\n",
    "``\n",
    "wget -O data/weather/`date +\"%Y%m%d_%H%M%S.json\"` https://prodapi.metweb.ie/observations/athenry/today\n",
    "``\n",
    "\n",
    "- Afterwards I need to test whether the file is executable by running command ``ls -l weather.sh``. The output will look something like this:\n",
    "\n",
    "    ``-rwxrw-rw- 1 codespace codespace 116 Dec  9 16:57 weather.sh``\n",
    "\n",
    "    In order for the file to work we need the ``x`` in the string as above: ``-rwxrw``.\n",
    "\n",
    "- If the file did not contain ``x``, as in this example:\n",
    "\n",
    "    ``-rw-rw-rw- 1 codespace codespace 16 Dec  3 19:45 formatted.txt``\n",
    "\n",
    "    We would need to run the command: ``chomod +x weather.sh``.\n",
    "\n",
    "Finally to execute the script on the command line, at the location that you want, you will run ``./weather.sh``."
   ]
  },
  {
   "cell_type": "markdown",
   "metadata": {},
   "source": [
    "## Task 9: pandas"
   ]
  },
  {
   "cell_type": "markdown",
   "metadata": {},
   "source": [
    "I will use pandas to load in one of my json weather files. To do so I will need to import the pandas library."
   ]
  },
  {
   "cell_type": "code",
   "execution_count": 5,
   "metadata": {},
   "outputs": [],
   "source": [
    "import pandas as pd"
   ]
  },
  {
   "cell_type": "markdown",
   "metadata": {},
   "source": [
    "Using the pandas function ``read_json()``, I can read in a weather file and have a look at the data."
   ]
  },
  {
   "cell_type": "code",
   "execution_count": 6,
   "metadata": {},
   "outputs": [
    {
     "name": "stdout",
     "output_type": "stream",
     "text": [
      "       name  temperature symbol  weatherDescription                    text  \\\n",
      "0   Athenry            4    02n                Fair                  \"Fair\"   \n",
      "1   Athenry            4    02n                Fair                  \"Fair\"   \n",
      "2   Athenry            4    40n  Light rain showers           \"Recent Rain\"   \n",
      "3   Athenry            3    05n        Rain showers           \"Rain shower\"   \n",
      "4   Athenry            3    40n  Light rain showers  \"Recent Precipitation\"   \n",
      "5   Athenry            2    02n                Fair                  \"Fair\"   \n",
      "6   Athenry            3    02n                Fair                  \"Fair\"   \n",
      "7   Athenry            4    04n              Cloudy                \"Cloudy\"   \n",
      "8   Athenry            4    46n         Light rain        \"Recent Drizzle \"   \n",
      "9   Athenry            4    02d                Fair                  \"Fair\"   \n",
      "10  Athenry            5    02d                Fair                  \"Fair\"   \n",
      "11  Athenry            6    04d              Cloudy                \"Cloudy\"   \n",
      "12  Athenry            7    04d              Cloudy                \"Cloudy\"   \n",
      "13  Athenry            8    02d                Fair                  \"Fair\"   \n",
      "14  Athenry            9    02d                Fair                  \"Fair\"   \n",
      "15  Athenry            7    02d                Fair                  \"Fair\"   \n",
      "16  Athenry            7    04d              Cloudy                \"Cloudy\"   \n",
      "17  Athenry            5    02n                Fair                  \"Fair\"   \n",
      "18  Athenry            4    02n                Fair                  \"Fair\"   \n",
      "19  Athenry            3    02n                Fair                  \"Fair\"   \n",
      "20  Athenry            3    02n                Fair                  \"Fair\"   \n",
      "\n",
      "    windSpeed windGust cardinalWindDirection  windDirection  humidity  \\\n",
      "0          17        -                    NW            315        85   \n",
      "1          15        -                    NW            315        87   \n",
      "2          15        -                    NW            315        89   \n",
      "3          11        -                    NW            315        91   \n",
      "4           2        -                     N              0        91   \n",
      "5          11        -                    NW            315        93   \n",
      "6          15        -                    NW            315        92   \n",
      "7          13        -                    NW            315        92   \n",
      "8          11        -                     N              0        91   \n",
      "9           7        -                     N              0        89   \n",
      "10          9        -                     W            270        86   \n",
      "11          9        -                    NW            315        87   \n",
      "12          9        -                     N              0        82   \n",
      "13         26        -                     N              0        75   \n",
      "14         13       41                     N              0        74   \n",
      "15         19        -                     N              0        71   \n",
      "16          9        -                    NE             45        74   \n",
      "17         11        -                     N              0        78   \n",
      "18          9        -                     N              0        86   \n",
      "19         11        -                     N              0        87   \n",
      "20         11        -                     N              0        89   \n",
      "\n",
      "    rainfall  pressure dayName       date reportTime  \n",
      "0       0.00      1032  Sunday 2024-08-12      00:00  \n",
      "1       0.00      1033  Sunday 2024-08-12      01:00  \n",
      "2       0.01      1034  Sunday 2024-08-12      02:00  \n",
      "3       0.10      1035  Sunday 2024-08-12      03:00  \n",
      "4       0.01      1036  Sunday 2024-08-12      04:00  \n",
      "5       0.00      1036  Sunday 2024-08-12      05:00  \n",
      "6       0.00      1037  Sunday 2024-08-12      06:00  \n",
      "7       0.00      1037  Sunday 2024-08-12      07:00  \n",
      "8       0.01      1038  Sunday 2024-08-12      08:00  \n",
      "9       0.00      1038  Sunday 2024-08-12      09:00  \n",
      "10      0.00      1039  Sunday 2024-08-12      10:00  \n",
      "11      0.00      1040  Sunday 2024-08-12      11:00  \n",
      "12      0.00      1039  Sunday 2024-08-12      12:00  \n",
      "13      0.00      1039  Sunday 2024-08-12      13:00  \n",
      "14      0.00      1039  Sunday 2024-08-12      14:00  \n",
      "15      0.00      1039  Sunday 2024-08-12      15:00  \n",
      "16      0.00      1040  Sunday 2024-08-12      16:00  \n",
      "17      0.00      1040  Sunday 2024-08-12      17:00  \n",
      "18      0.00      1040  Sunday 2024-08-12      18:00  \n",
      "19      0.00      1041  Sunday 2024-08-12      19:00  \n",
      "20      0.00      1041  Sunday 2024-08-12      20:00  \n"
     ]
    }
   ],
   "source": [
    "file_path = \"/workspaces/Computer-Infrastructure/data/weather/20241208_205423.json\"\n",
    "weather = pd.read_json(file_path)\n",
    "\n",
    "print(weather)"
   ]
  },
  {
   "cell_type": "markdown",
   "metadata": {},
   "source": [
    "To see the column names, data types and non-null counts I can use ``weather.info()``"
   ]
  },
  {
   "cell_type": "code",
   "execution_count": 7,
   "metadata": {},
   "outputs": [
    {
     "data": {
      "text/plain": [
       "<bound method DataFrame.info of        name  temperature symbol  weatherDescription                    text  \\\n",
       "0   Athenry            4    02n                Fair                  \"Fair\"   \n",
       "1   Athenry            4    02n                Fair                  \"Fair\"   \n",
       "2   Athenry            4    40n  Light rain showers           \"Recent Rain\"   \n",
       "3   Athenry            3    05n        Rain showers           \"Rain shower\"   \n",
       "4   Athenry            3    40n  Light rain showers  \"Recent Precipitation\"   \n",
       "5   Athenry            2    02n                Fair                  \"Fair\"   \n",
       "6   Athenry            3    02n                Fair                  \"Fair\"   \n",
       "7   Athenry            4    04n              Cloudy                \"Cloudy\"   \n",
       "8   Athenry            4    46n         Light rain        \"Recent Drizzle \"   \n",
       "9   Athenry            4    02d                Fair                  \"Fair\"   \n",
       "10  Athenry            5    02d                Fair                  \"Fair\"   \n",
       "11  Athenry            6    04d              Cloudy                \"Cloudy\"   \n",
       "12  Athenry            7    04d              Cloudy                \"Cloudy\"   \n",
       "13  Athenry            8    02d                Fair                  \"Fair\"   \n",
       "14  Athenry            9    02d                Fair                  \"Fair\"   \n",
       "15  Athenry            7    02d                Fair                  \"Fair\"   \n",
       "16  Athenry            7    04d              Cloudy                \"Cloudy\"   \n",
       "17  Athenry            5    02n                Fair                  \"Fair\"   \n",
       "18  Athenry            4    02n                Fair                  \"Fair\"   \n",
       "19  Athenry            3    02n                Fair                  \"Fair\"   \n",
       "20  Athenry            3    02n                Fair                  \"Fair\"   \n",
       "\n",
       "    windSpeed windGust cardinalWindDirection  windDirection  humidity  \\\n",
       "0          17        -                    NW            315        85   \n",
       "1          15        -                    NW            315        87   \n",
       "2          15        -                    NW            315        89   \n",
       "3          11        -                    NW            315        91   \n",
       "4           2        -                     N              0        91   \n",
       "5          11        -                    NW            315        93   \n",
       "6          15        -                    NW            315        92   \n",
       "7          13        -                    NW            315        92   \n",
       "8          11        -                     N              0        91   \n",
       "9           7        -                     N              0        89   \n",
       "10          9        -                     W            270        86   \n",
       "11          9        -                    NW            315        87   \n",
       "12          9        -                     N              0        82   \n",
       "13         26        -                     N              0        75   \n",
       "14         13       41                     N              0        74   \n",
       "15         19        -                     N              0        71   \n",
       "16          9        -                    NE             45        74   \n",
       "17         11        -                     N              0        78   \n",
       "18          9        -                     N              0        86   \n",
       "19         11        -                     N              0        87   \n",
       "20         11        -                     N              0        89   \n",
       "\n",
       "    rainfall  pressure dayName       date reportTime  \n",
       "0       0.00      1032  Sunday 2024-08-12      00:00  \n",
       "1       0.00      1033  Sunday 2024-08-12      01:00  \n",
       "2       0.01      1034  Sunday 2024-08-12      02:00  \n",
       "3       0.10      1035  Sunday 2024-08-12      03:00  \n",
       "4       0.01      1036  Sunday 2024-08-12      04:00  \n",
       "5       0.00      1036  Sunday 2024-08-12      05:00  \n",
       "6       0.00      1037  Sunday 2024-08-12      06:00  \n",
       "7       0.00      1037  Sunday 2024-08-12      07:00  \n",
       "8       0.01      1038  Sunday 2024-08-12      08:00  \n",
       "9       0.00      1038  Sunday 2024-08-12      09:00  \n",
       "10      0.00      1039  Sunday 2024-08-12      10:00  \n",
       "11      0.00      1040  Sunday 2024-08-12      11:00  \n",
       "12      0.00      1039  Sunday 2024-08-12      12:00  \n",
       "13      0.00      1039  Sunday 2024-08-12      13:00  \n",
       "14      0.00      1039  Sunday 2024-08-12      14:00  \n",
       "15      0.00      1039  Sunday 2024-08-12      15:00  \n",
       "16      0.00      1040  Sunday 2024-08-12      16:00  \n",
       "17      0.00      1040  Sunday 2024-08-12      17:00  \n",
       "18      0.00      1040  Sunday 2024-08-12      18:00  \n",
       "19      0.00      1041  Sunday 2024-08-12      19:00  \n",
       "20      0.00      1041  Sunday 2024-08-12      20:00  >"
      ]
     },
     "execution_count": 7,
     "metadata": {},
     "output_type": "execute_result"
    }
   ],
   "source": [
    "weather.info"
   ]
  },
  {
   "cell_type": "markdown",
   "metadata": {},
   "source": [
    "To summarize the numerical data I can use ``weather.describe()``. This will display the counts of each column, the mean, the max, min and standard deviation."
   ]
  },
  {
   "cell_type": "code",
   "execution_count": 8,
   "metadata": {},
   "outputs": [
    {
     "data": {
      "text/html": [
       "<div>\n",
       "<style scoped>\n",
       "    .dataframe tbody tr th:only-of-type {\n",
       "        vertical-align: middle;\n",
       "    }\n",
       "\n",
       "    .dataframe tbody tr th {\n",
       "        vertical-align: top;\n",
       "    }\n",
       "\n",
       "    .dataframe thead th {\n",
       "        text-align: right;\n",
       "    }\n",
       "</style>\n",
       "<table border=\"1\" class=\"dataframe\">\n",
       "  <thead>\n",
       "    <tr style=\"text-align: right;\">\n",
       "      <th></th>\n",
       "      <th>temperature</th>\n",
       "      <th>windSpeed</th>\n",
       "      <th>windDirection</th>\n",
       "      <th>humidity</th>\n",
       "      <th>rainfall</th>\n",
       "      <th>pressure</th>\n",
       "      <th>date</th>\n",
       "    </tr>\n",
       "  </thead>\n",
       "  <tbody>\n",
       "    <tr>\n",
       "      <th>count</th>\n",
       "      <td>21.000000</td>\n",
       "      <td>21.000000</td>\n",
       "      <td>21.000000</td>\n",
       "      <td>21.000000</td>\n",
       "      <td>21.000000</td>\n",
       "      <td>21.000000</td>\n",
       "      <td>21</td>\n",
       "    </tr>\n",
       "    <tr>\n",
       "      <th>mean</th>\n",
       "      <td>4.714286</td>\n",
       "      <td>12.047619</td>\n",
       "      <td>135.000000</td>\n",
       "      <td>85.190476</td>\n",
       "      <td>0.006190</td>\n",
       "      <td>1037.761905</td>\n",
       "      <td>2024-08-12 00:00:00</td>\n",
       "    </tr>\n",
       "    <tr>\n",
       "      <th>min</th>\n",
       "      <td>2.000000</td>\n",
       "      <td>2.000000</td>\n",
       "      <td>0.000000</td>\n",
       "      <td>71.000000</td>\n",
       "      <td>0.000000</td>\n",
       "      <td>1032.000000</td>\n",
       "      <td>2024-08-12 00:00:00</td>\n",
       "    </tr>\n",
       "    <tr>\n",
       "      <th>25%</th>\n",
       "      <td>3.000000</td>\n",
       "      <td>9.000000</td>\n",
       "      <td>0.000000</td>\n",
       "      <td>82.000000</td>\n",
       "      <td>0.000000</td>\n",
       "      <td>1036.000000</td>\n",
       "      <td>2024-08-12 00:00:00</td>\n",
       "    </tr>\n",
       "    <tr>\n",
       "      <th>50%</th>\n",
       "      <td>4.000000</td>\n",
       "      <td>11.000000</td>\n",
       "      <td>0.000000</td>\n",
       "      <td>87.000000</td>\n",
       "      <td>0.000000</td>\n",
       "      <td>1039.000000</td>\n",
       "      <td>2024-08-12 00:00:00</td>\n",
       "    </tr>\n",
       "    <tr>\n",
       "      <th>75%</th>\n",
       "      <td>6.000000</td>\n",
       "      <td>15.000000</td>\n",
       "      <td>315.000000</td>\n",
       "      <td>91.000000</td>\n",
       "      <td>0.000000</td>\n",
       "      <td>1040.000000</td>\n",
       "      <td>2024-08-12 00:00:00</td>\n",
       "    </tr>\n",
       "    <tr>\n",
       "      <th>max</th>\n",
       "      <td>9.000000</td>\n",
       "      <td>26.000000</td>\n",
       "      <td>315.000000</td>\n",
       "      <td>93.000000</td>\n",
       "      <td>0.100000</td>\n",
       "      <td>1041.000000</td>\n",
       "      <td>2024-08-12 00:00:00</td>\n",
       "    </tr>\n",
       "    <tr>\n",
       "      <th>std</th>\n",
       "      <td>1.901127</td>\n",
       "      <td>4.873153</td>\n",
       "      <td>155.884573</td>\n",
       "      <td>6.808958</td>\n",
       "      <td>0.021789</td>\n",
       "      <td>2.586595</td>\n",
       "      <td>NaN</td>\n",
       "    </tr>\n",
       "  </tbody>\n",
       "</table>\n",
       "</div>"
      ],
      "text/plain": [
       "       temperature  windSpeed  windDirection   humidity   rainfall  \\\n",
       "count    21.000000  21.000000      21.000000  21.000000  21.000000   \n",
       "mean      4.714286  12.047619     135.000000  85.190476   0.006190   \n",
       "min       2.000000   2.000000       0.000000  71.000000   0.000000   \n",
       "25%       3.000000   9.000000       0.000000  82.000000   0.000000   \n",
       "50%       4.000000  11.000000       0.000000  87.000000   0.000000   \n",
       "75%       6.000000  15.000000     315.000000  91.000000   0.000000   \n",
       "max       9.000000  26.000000     315.000000  93.000000   0.100000   \n",
       "std       1.901127   4.873153     155.884573   6.808958   0.021789   \n",
       "\n",
       "          pressure                 date  \n",
       "count    21.000000                   21  \n",
       "mean   1037.761905  2024-08-12 00:00:00  \n",
       "min    1032.000000  2024-08-12 00:00:00  \n",
       "25%    1036.000000  2024-08-12 00:00:00  \n",
       "50%    1039.000000  2024-08-12 00:00:00  \n",
       "75%    1040.000000  2024-08-12 00:00:00  \n",
       "max    1041.000000  2024-08-12 00:00:00  \n",
       "std       2.586595                  NaN  "
      ]
     },
     "execution_count": 8,
     "metadata": {},
     "output_type": "execute_result"
    }
   ],
   "source": [
    "weather.describe()"
   ]
  },
  {
   "cell_type": "markdown",
   "metadata": {},
   "source": [
    "### data.gov.ie"
   ]
  },
  {
   "cell_type": "markdown",
   "metadata": {},
   "source": [
    "The data set comes from the data.gov.ie website. It is data published by Met Éireann from their synoptic station in Athenry, Co. Galway. It is updated hourly, for the current day."
   ]
  },
  {
   "cell_type": "markdown",
   "metadata": {},
   "source": [
    "### Structure of the data"
   ]
  },
  {
   "cell_type": "markdown",
   "metadata": {},
   "source": [
    "The data is divided into 15 different columns, related to current weather conditions such as ``windSpeed``, ``windGust``, ``cardinalWindDirection``(N, S, E, W etc.), ``windDirection`` (numerical), ``humidity`` (%), ``rainfall`` (mm), ``pressure`` (mbar), ``dayName``(e.g. Wednesday), ``date`` and ``reportTime``. There are also numeric and text descriptions of the weather in columns, ``symbol``, ``weatherDescription`` and ``text``. "
   ]
  }
 ],
 "metadata": {
  "kernelspec": {
   "display_name": "Python 3",
   "language": "python",
   "name": "python3"
  },
  "language_info": {
   "codemirror_mode": {
    "name": "ipython",
    "version": 3
   },
   "file_extension": ".py",
   "mimetype": "text/x-python",
   "name": "python",
   "nbconvert_exporter": "python",
   "pygments_lexer": "ipython3",
   "version": "3.12.1"
  }
 },
 "nbformat": 4,
 "nbformat_minor": 2
}
